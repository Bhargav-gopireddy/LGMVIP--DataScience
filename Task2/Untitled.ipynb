{
 "cells": [
  {
   "cell_type": "markdown",
   "id": "6cf35ef3",
   "metadata": {},
   "source": [
    "# Stock Market Prediction And Forecasting Using Stacked LSTM"
   ]
  },
  {
   "cell_type": "code",
   "execution_count": 1,
   "id": "fad13264",
   "metadata": {},
   "outputs": [],
   "source": [
    "import numpy as np\n",
    "import matplotlib.pyplot as plt\n",
    "import pandas as pd"
   ]
  },
  {
   "cell_type": "code",
   "execution_count": 2,
   "id": "85d13c0d",
   "metadata": {},
   "outputs": [],
   "source": [
    "# Importing the training set\n",
    "df = pd.read_csv('NSE-TATAGLOBAL.csv')"
   ]
  },
  {
   "cell_type": "code",
   "execution_count": 3,
   "id": "38f056b6",
   "metadata": {},
   "outputs": [
    {
     "data": {
      "text/plain": [
       "(2035, 8)"
      ]
     },
     "execution_count": 3,
     "metadata": {},
     "output_type": "execute_result"
    }
   ],
   "source": [
    "df.shape"
   ]
  },
  {
   "cell_type": "code",
   "execution_count": 4,
   "id": "fa03189a",
   "metadata": {},
   "outputs": [
    {
     "name": "stdout",
     "output_type": "stream",
     "text": [
      "<class 'pandas.core.frame.DataFrame'>\n",
      "RangeIndex: 2035 entries, 0 to 2034\n",
      "Data columns (total 8 columns):\n",
      " #   Column                Non-Null Count  Dtype  \n",
      "---  ------                --------------  -----  \n",
      " 0   Date                  2035 non-null   object \n",
      " 1   Open                  2035 non-null   float64\n",
      " 2   High                  2035 non-null   float64\n",
      " 3   Low                   2035 non-null   float64\n",
      " 4   Last                  2035 non-null   float64\n",
      " 5   Close                 2035 non-null   float64\n",
      " 6   Total Trade Quantity  2035 non-null   int64  \n",
      " 7   Turnover (Lacs)       2035 non-null   float64\n",
      "dtypes: float64(6), int64(1), object(1)\n",
      "memory usage: 127.3+ KB\n"
     ]
    }
   ],
   "source": [
    "df.info()"
   ]
  },
  {
   "cell_type": "code",
   "execution_count": 5,
   "id": "1ecf4d89",
   "metadata": {},
   "outputs": [
    {
     "data": {
      "text/html": [
       "<div>\n",
       "<style scoped>\n",
       "    .dataframe tbody tr th:only-of-type {\n",
       "        vertical-align: middle;\n",
       "    }\n",
       "\n",
       "    .dataframe tbody tr th {\n",
       "        vertical-align: top;\n",
       "    }\n",
       "\n",
       "    .dataframe thead th {\n",
       "        text-align: right;\n",
       "    }\n",
       "</style>\n",
       "<table border=\"1\" class=\"dataframe\">\n",
       "  <thead>\n",
       "    <tr style=\"text-align: right;\">\n",
       "      <th></th>\n",
       "      <th>Open</th>\n",
       "      <th>High</th>\n",
       "      <th>Low</th>\n",
       "      <th>Last</th>\n",
       "      <th>Close</th>\n",
       "      <th>Total Trade Quantity</th>\n",
       "      <th>Turnover (Lacs)</th>\n",
       "    </tr>\n",
       "  </thead>\n",
       "  <tbody>\n",
       "    <tr>\n",
       "      <th>count</th>\n",
       "      <td>2035.000000</td>\n",
       "      <td>2035.000000</td>\n",
       "      <td>2035.000000</td>\n",
       "      <td>2035.000000</td>\n",
       "      <td>2035.00000</td>\n",
       "      <td>2.035000e+03</td>\n",
       "      <td>2035.000000</td>\n",
       "    </tr>\n",
       "    <tr>\n",
       "      <th>mean</th>\n",
       "      <td>149.713735</td>\n",
       "      <td>151.992826</td>\n",
       "      <td>147.293931</td>\n",
       "      <td>149.474251</td>\n",
       "      <td>149.45027</td>\n",
       "      <td>2.335681e+06</td>\n",
       "      <td>3899.980565</td>\n",
       "    </tr>\n",
       "    <tr>\n",
       "      <th>std</th>\n",
       "      <td>48.664509</td>\n",
       "      <td>49.413109</td>\n",
       "      <td>47.931958</td>\n",
       "      <td>48.732570</td>\n",
       "      <td>48.71204</td>\n",
       "      <td>2.091778e+06</td>\n",
       "      <td>4570.767877</td>\n",
       "    </tr>\n",
       "    <tr>\n",
       "      <th>min</th>\n",
       "      <td>81.100000</td>\n",
       "      <td>82.800000</td>\n",
       "      <td>80.000000</td>\n",
       "      <td>81.000000</td>\n",
       "      <td>80.95000</td>\n",
       "      <td>3.961000e+04</td>\n",
       "      <td>37.040000</td>\n",
       "    </tr>\n",
       "    <tr>\n",
       "      <th>25%</th>\n",
       "      <td>120.025000</td>\n",
       "      <td>122.100000</td>\n",
       "      <td>118.300000</td>\n",
       "      <td>120.075000</td>\n",
       "      <td>120.05000</td>\n",
       "      <td>1.146444e+06</td>\n",
       "      <td>1427.460000</td>\n",
       "    </tr>\n",
       "    <tr>\n",
       "      <th>50%</th>\n",
       "      <td>141.500000</td>\n",
       "      <td>143.400000</td>\n",
       "      <td>139.600000</td>\n",
       "      <td>141.100000</td>\n",
       "      <td>141.25000</td>\n",
       "      <td>1.783456e+06</td>\n",
       "      <td>2512.030000</td>\n",
       "    </tr>\n",
       "    <tr>\n",
       "      <th>75%</th>\n",
       "      <td>157.175000</td>\n",
       "      <td>159.400000</td>\n",
       "      <td>155.150000</td>\n",
       "      <td>156.925000</td>\n",
       "      <td>156.90000</td>\n",
       "      <td>2.813594e+06</td>\n",
       "      <td>4539.015000</td>\n",
       "    </tr>\n",
       "    <tr>\n",
       "      <th>max</th>\n",
       "      <td>327.700000</td>\n",
       "      <td>328.750000</td>\n",
       "      <td>321.650000</td>\n",
       "      <td>325.950000</td>\n",
       "      <td>325.75000</td>\n",
       "      <td>2.919102e+07</td>\n",
       "      <td>55755.080000</td>\n",
       "    </tr>\n",
       "  </tbody>\n",
       "</table>\n",
       "</div>"
      ],
      "text/plain": [
       "              Open         High          Low         Last       Close  \\\n",
       "count  2035.000000  2035.000000  2035.000000  2035.000000  2035.00000   \n",
       "mean    149.713735   151.992826   147.293931   149.474251   149.45027   \n",
       "std      48.664509    49.413109    47.931958    48.732570    48.71204   \n",
       "min      81.100000    82.800000    80.000000    81.000000    80.95000   \n",
       "25%     120.025000   122.100000   118.300000   120.075000   120.05000   \n",
       "50%     141.500000   143.400000   139.600000   141.100000   141.25000   \n",
       "75%     157.175000   159.400000   155.150000   156.925000   156.90000   \n",
       "max     327.700000   328.750000   321.650000   325.950000   325.75000   \n",
       "\n",
       "       Total Trade Quantity  Turnover (Lacs)  \n",
       "count          2.035000e+03      2035.000000  \n",
       "mean           2.335681e+06      3899.980565  \n",
       "std            2.091778e+06      4570.767877  \n",
       "min            3.961000e+04        37.040000  \n",
       "25%            1.146444e+06      1427.460000  \n",
       "50%            1.783456e+06      2512.030000  \n",
       "75%            2.813594e+06      4539.015000  \n",
       "max            2.919102e+07     55755.080000  "
      ]
     },
     "execution_count": 5,
     "metadata": {},
     "output_type": "execute_result"
    }
   ],
   "source": [
    "df.describe()"
   ]
  },
  {
   "cell_type": "code",
   "execution_count": 6,
   "id": "565eee3b",
   "metadata": {},
   "outputs": [
    {
     "data": {
      "text/html": [
       "<div>\n",
       "<style scoped>\n",
       "    .dataframe tbody tr th:only-of-type {\n",
       "        vertical-align: middle;\n",
       "    }\n",
       "\n",
       "    .dataframe tbody tr th {\n",
       "        vertical-align: top;\n",
       "    }\n",
       "\n",
       "    .dataframe thead th {\n",
       "        text-align: right;\n",
       "    }\n",
       "</style>\n",
       "<table border=\"1\" class=\"dataframe\">\n",
       "  <thead>\n",
       "    <tr style=\"text-align: right;\">\n",
       "      <th></th>\n",
       "      <th>Date</th>\n",
       "      <th>Open</th>\n",
       "      <th>High</th>\n",
       "      <th>Low</th>\n",
       "      <th>Last</th>\n",
       "      <th>Close</th>\n",
       "      <th>Total Trade Quantity</th>\n",
       "      <th>Turnover (Lacs)</th>\n",
       "    </tr>\n",
       "  </thead>\n",
       "  <tbody>\n",
       "    <tr>\n",
       "      <th>0</th>\n",
       "      <td>2018-09-28</td>\n",
       "      <td>234.05</td>\n",
       "      <td>235.95</td>\n",
       "      <td>230.20</td>\n",
       "      <td>233.50</td>\n",
       "      <td>233.75</td>\n",
       "      <td>3069914</td>\n",
       "      <td>7162.35</td>\n",
       "    </tr>\n",
       "    <tr>\n",
       "      <th>1</th>\n",
       "      <td>2018-09-27</td>\n",
       "      <td>234.55</td>\n",
       "      <td>236.80</td>\n",
       "      <td>231.10</td>\n",
       "      <td>233.80</td>\n",
       "      <td>233.25</td>\n",
       "      <td>5082859</td>\n",
       "      <td>11859.95</td>\n",
       "    </tr>\n",
       "    <tr>\n",
       "      <th>2</th>\n",
       "      <td>2018-09-26</td>\n",
       "      <td>240.00</td>\n",
       "      <td>240.00</td>\n",
       "      <td>232.50</td>\n",
       "      <td>235.00</td>\n",
       "      <td>234.25</td>\n",
       "      <td>2240909</td>\n",
       "      <td>5248.60</td>\n",
       "    </tr>\n",
       "    <tr>\n",
       "      <th>3</th>\n",
       "      <td>2018-09-25</td>\n",
       "      <td>233.30</td>\n",
       "      <td>236.75</td>\n",
       "      <td>232.00</td>\n",
       "      <td>236.25</td>\n",
       "      <td>236.10</td>\n",
       "      <td>2349368</td>\n",
       "      <td>5503.90</td>\n",
       "    </tr>\n",
       "    <tr>\n",
       "      <th>4</th>\n",
       "      <td>2018-09-24</td>\n",
       "      <td>233.55</td>\n",
       "      <td>239.20</td>\n",
       "      <td>230.75</td>\n",
       "      <td>234.00</td>\n",
       "      <td>233.30</td>\n",
       "      <td>3423509</td>\n",
       "      <td>7999.55</td>\n",
       "    </tr>\n",
       "  </tbody>\n",
       "</table>\n",
       "</div>"
      ],
      "text/plain": [
       "         Date    Open    High     Low    Last   Close  Total Trade Quantity  \\\n",
       "0  2018-09-28  234.05  235.95  230.20  233.50  233.75               3069914   \n",
       "1  2018-09-27  234.55  236.80  231.10  233.80  233.25               5082859   \n",
       "2  2018-09-26  240.00  240.00  232.50  235.00  234.25               2240909   \n",
       "3  2018-09-25  233.30  236.75  232.00  236.25  236.10               2349368   \n",
       "4  2018-09-24  233.55  239.20  230.75  234.00  233.30               3423509   \n",
       "\n",
       "   Turnover (Lacs)  \n",
       "0          7162.35  \n",
       "1         11859.95  \n",
       "2          5248.60  \n",
       "3          5503.90  \n",
       "4          7999.55  "
      ]
     },
     "execution_count": 6,
     "metadata": {},
     "output_type": "execute_result"
    }
   ],
   "source": [
    "df.head()"
   ]
  },
  {
   "cell_type": "code",
   "execution_count": 7,
   "id": "08e92d04",
   "metadata": {},
   "outputs": [
    {
     "data": {
      "text/html": [
       "<div>\n",
       "<style scoped>\n",
       "    .dataframe tbody tr th:only-of-type {\n",
       "        vertical-align: middle;\n",
       "    }\n",
       "\n",
       "    .dataframe tbody tr th {\n",
       "        vertical-align: top;\n",
       "    }\n",
       "\n",
       "    .dataframe thead th {\n",
       "        text-align: right;\n",
       "    }\n",
       "</style>\n",
       "<table border=\"1\" class=\"dataframe\">\n",
       "  <thead>\n",
       "    <tr style=\"text-align: right;\">\n",
       "      <th></th>\n",
       "      <th>Date</th>\n",
       "      <th>Open</th>\n",
       "      <th>High</th>\n",
       "      <th>Low</th>\n",
       "      <th>Last</th>\n",
       "      <th>Close</th>\n",
       "      <th>Total Trade Quantity</th>\n",
       "      <th>Turnover (Lacs)</th>\n",
       "    </tr>\n",
       "  </thead>\n",
       "  <tbody>\n",
       "    <tr>\n",
       "      <th>2030</th>\n",
       "      <td>2010-07-27</td>\n",
       "      <td>117.6</td>\n",
       "      <td>119.50</td>\n",
       "      <td>112.00</td>\n",
       "      <td>118.80</td>\n",
       "      <td>118.65</td>\n",
       "      <td>586100</td>\n",
       "      <td>694.98</td>\n",
       "    </tr>\n",
       "    <tr>\n",
       "      <th>2031</th>\n",
       "      <td>2010-07-26</td>\n",
       "      <td>120.1</td>\n",
       "      <td>121.00</td>\n",
       "      <td>117.10</td>\n",
       "      <td>117.10</td>\n",
       "      <td>117.60</td>\n",
       "      <td>658440</td>\n",
       "      <td>780.01</td>\n",
       "    </tr>\n",
       "    <tr>\n",
       "      <th>2032</th>\n",
       "      <td>2010-07-23</td>\n",
       "      <td>121.8</td>\n",
       "      <td>121.95</td>\n",
       "      <td>120.25</td>\n",
       "      <td>120.35</td>\n",
       "      <td>120.65</td>\n",
       "      <td>281312</td>\n",
       "      <td>340.31</td>\n",
       "    </tr>\n",
       "    <tr>\n",
       "      <th>2033</th>\n",
       "      <td>2010-07-22</td>\n",
       "      <td>120.3</td>\n",
       "      <td>122.00</td>\n",
       "      <td>120.25</td>\n",
       "      <td>120.75</td>\n",
       "      <td>120.90</td>\n",
       "      <td>293312</td>\n",
       "      <td>355.17</td>\n",
       "    </tr>\n",
       "    <tr>\n",
       "      <th>2034</th>\n",
       "      <td>2010-07-21</td>\n",
       "      <td>122.1</td>\n",
       "      <td>123.00</td>\n",
       "      <td>121.05</td>\n",
       "      <td>121.10</td>\n",
       "      <td>121.55</td>\n",
       "      <td>658666</td>\n",
       "      <td>803.56</td>\n",
       "    </tr>\n",
       "  </tbody>\n",
       "</table>\n",
       "</div>"
      ],
      "text/plain": [
       "            Date   Open    High     Low    Last   Close  Total Trade Quantity  \\\n",
       "2030  2010-07-27  117.6  119.50  112.00  118.80  118.65                586100   \n",
       "2031  2010-07-26  120.1  121.00  117.10  117.10  117.60                658440   \n",
       "2032  2010-07-23  121.8  121.95  120.25  120.35  120.65                281312   \n",
       "2033  2010-07-22  120.3  122.00  120.25  120.75  120.90                293312   \n",
       "2034  2010-07-21  122.1  123.00  121.05  121.10  121.55                658666   \n",
       "\n",
       "      Turnover (Lacs)  \n",
       "2030           694.98  \n",
       "2031           780.01  \n",
       "2032           340.31  \n",
       "2033           355.17  \n",
       "2034           803.56  "
      ]
     },
     "execution_count": 7,
     "metadata": {},
     "output_type": "execute_result"
    }
   ],
   "source": [
    "df.tail()"
   ]
  },
  {
   "cell_type": "code",
   "execution_count": 8,
   "id": "d3090b38",
   "metadata": {},
   "outputs": [
    {
     "data": {
      "text/html": [
       "<div>\n",
       "<style scoped>\n",
       "    .dataframe tbody tr th:only-of-type {\n",
       "        vertical-align: middle;\n",
       "    }\n",
       "\n",
       "    .dataframe tbody tr th {\n",
       "        vertical-align: top;\n",
       "    }\n",
       "\n",
       "    .dataframe thead th {\n",
       "        text-align: right;\n",
       "    }\n",
       "</style>\n",
       "<table border=\"1\" class=\"dataframe\">\n",
       "  <thead>\n",
       "    <tr style=\"text-align: right;\">\n",
       "      <th></th>\n",
       "      <th>Date</th>\n",
       "      <th>Open</th>\n",
       "      <th>High</th>\n",
       "      <th>Low</th>\n",
       "      <th>Last</th>\n",
       "      <th>Close</th>\n",
       "      <th>Total Trade Quantity</th>\n",
       "      <th>Turnover (Lacs)</th>\n",
       "    </tr>\n",
       "  </thead>\n",
       "  <tbody>\n",
       "    <tr>\n",
       "      <th>0</th>\n",
       "      <td>2010-07-21</td>\n",
       "      <td>122.1</td>\n",
       "      <td>123.00</td>\n",
       "      <td>121.05</td>\n",
       "      <td>121.10</td>\n",
       "      <td>121.55</td>\n",
       "      <td>658666</td>\n",
       "      <td>803.56</td>\n",
       "    </tr>\n",
       "    <tr>\n",
       "      <th>1</th>\n",
       "      <td>2010-07-22</td>\n",
       "      <td>120.3</td>\n",
       "      <td>122.00</td>\n",
       "      <td>120.25</td>\n",
       "      <td>120.75</td>\n",
       "      <td>120.90</td>\n",
       "      <td>293312</td>\n",
       "      <td>355.17</td>\n",
       "    </tr>\n",
       "    <tr>\n",
       "      <th>2</th>\n",
       "      <td>2010-07-23</td>\n",
       "      <td>121.8</td>\n",
       "      <td>121.95</td>\n",
       "      <td>120.25</td>\n",
       "      <td>120.35</td>\n",
       "      <td>120.65</td>\n",
       "      <td>281312</td>\n",
       "      <td>340.31</td>\n",
       "    </tr>\n",
       "    <tr>\n",
       "      <th>3</th>\n",
       "      <td>2010-07-26</td>\n",
       "      <td>120.1</td>\n",
       "      <td>121.00</td>\n",
       "      <td>117.10</td>\n",
       "      <td>117.10</td>\n",
       "      <td>117.60</td>\n",
       "      <td>658440</td>\n",
       "      <td>780.01</td>\n",
       "    </tr>\n",
       "    <tr>\n",
       "      <th>4</th>\n",
       "      <td>2010-07-27</td>\n",
       "      <td>117.6</td>\n",
       "      <td>119.50</td>\n",
       "      <td>112.00</td>\n",
       "      <td>118.80</td>\n",
       "      <td>118.65</td>\n",
       "      <td>586100</td>\n",
       "      <td>694.98</td>\n",
       "    </tr>\n",
       "  </tbody>\n",
       "</table>\n",
       "</div>"
      ],
      "text/plain": [
       "         Date   Open    High     Low    Last   Close  Total Trade Quantity  \\\n",
       "0  2010-07-21  122.1  123.00  121.05  121.10  121.55                658666   \n",
       "1  2010-07-22  120.3  122.00  120.25  120.75  120.90                293312   \n",
       "2  2010-07-23  121.8  121.95  120.25  120.35  120.65                281312   \n",
       "3  2010-07-26  120.1  121.00  117.10  117.10  117.60                658440   \n",
       "4  2010-07-27  117.6  119.50  112.00  118.80  118.65                586100   \n",
       "\n",
       "   Turnover (Lacs)  \n",
       "0           803.56  \n",
       "1           355.17  \n",
       "2           340.31  \n",
       "3           780.01  \n",
       "4           694.98  "
      ]
     },
     "execution_count": 8,
     "metadata": {},
     "output_type": "execute_result"
    }
   ],
   "source": [
    "df=df.loc[::-1].reset_index(drop=True)\n",
    "df.head()"
   ]
  },
  {
   "cell_type": "code",
   "execution_count": 9,
   "id": "bdd9e2b0",
   "metadata": {},
   "outputs": [
    {
     "data": {
      "text/html": [
       "<div>\n",
       "<style scoped>\n",
       "    .dataframe tbody tr th:only-of-type {\n",
       "        vertical-align: middle;\n",
       "    }\n",
       "\n",
       "    .dataframe tbody tr th {\n",
       "        vertical-align: top;\n",
       "    }\n",
       "\n",
       "    .dataframe thead th {\n",
       "        text-align: right;\n",
       "    }\n",
       "</style>\n",
       "<table border=\"1\" class=\"dataframe\">\n",
       "  <thead>\n",
       "    <tr style=\"text-align: right;\">\n",
       "      <th></th>\n",
       "      <th>Date</th>\n",
       "      <th>Open</th>\n",
       "      <th>High</th>\n",
       "      <th>Low</th>\n",
       "      <th>Last</th>\n",
       "      <th>Close</th>\n",
       "      <th>Total Trade Quantity</th>\n",
       "      <th>Turnover (Lacs)</th>\n",
       "    </tr>\n",
       "  </thead>\n",
       "  <tbody>\n",
       "    <tr>\n",
       "      <th>2030</th>\n",
       "      <td>2018-09-24</td>\n",
       "      <td>233.55</td>\n",
       "      <td>239.20</td>\n",
       "      <td>230.75</td>\n",
       "      <td>234.00</td>\n",
       "      <td>233.30</td>\n",
       "      <td>3423509</td>\n",
       "      <td>7999.55</td>\n",
       "    </tr>\n",
       "    <tr>\n",
       "      <th>2031</th>\n",
       "      <td>2018-09-25</td>\n",
       "      <td>233.30</td>\n",
       "      <td>236.75</td>\n",
       "      <td>232.00</td>\n",
       "      <td>236.25</td>\n",
       "      <td>236.10</td>\n",
       "      <td>2349368</td>\n",
       "      <td>5503.90</td>\n",
       "    </tr>\n",
       "    <tr>\n",
       "      <th>2032</th>\n",
       "      <td>2018-09-26</td>\n",
       "      <td>240.00</td>\n",
       "      <td>240.00</td>\n",
       "      <td>232.50</td>\n",
       "      <td>235.00</td>\n",
       "      <td>234.25</td>\n",
       "      <td>2240909</td>\n",
       "      <td>5248.60</td>\n",
       "    </tr>\n",
       "    <tr>\n",
       "      <th>2033</th>\n",
       "      <td>2018-09-27</td>\n",
       "      <td>234.55</td>\n",
       "      <td>236.80</td>\n",
       "      <td>231.10</td>\n",
       "      <td>233.80</td>\n",
       "      <td>233.25</td>\n",
       "      <td>5082859</td>\n",
       "      <td>11859.95</td>\n",
       "    </tr>\n",
       "    <tr>\n",
       "      <th>2034</th>\n",
       "      <td>2018-09-28</td>\n",
       "      <td>234.05</td>\n",
       "      <td>235.95</td>\n",
       "      <td>230.20</td>\n",
       "      <td>233.50</td>\n",
       "      <td>233.75</td>\n",
       "      <td>3069914</td>\n",
       "      <td>7162.35</td>\n",
       "    </tr>\n",
       "  </tbody>\n",
       "</table>\n",
       "</div>"
      ],
      "text/plain": [
       "            Date    Open    High     Low    Last   Close  \\\n",
       "2030  2018-09-24  233.55  239.20  230.75  234.00  233.30   \n",
       "2031  2018-09-25  233.30  236.75  232.00  236.25  236.10   \n",
       "2032  2018-09-26  240.00  240.00  232.50  235.00  234.25   \n",
       "2033  2018-09-27  234.55  236.80  231.10  233.80  233.25   \n",
       "2034  2018-09-28  234.05  235.95  230.20  233.50  233.75   \n",
       "\n",
       "      Total Trade Quantity  Turnover (Lacs)  \n",
       "2030               3423509          7999.55  \n",
       "2031               2349368          5503.90  \n",
       "2032               2240909          5248.60  \n",
       "2033               5082859         11859.95  \n",
       "2034               3069914          7162.35  "
      ]
     },
     "execution_count": 9,
     "metadata": {},
     "output_type": "execute_result"
    }
   ],
   "source": [
    "df.tail()"
   ]
  },
  {
   "cell_type": "code",
   "execution_count": 10,
   "id": "fad78fb7",
   "metadata": {},
   "outputs": [
    {
     "data": {
      "text/plain": [
       "(2035,)"
      ]
     },
     "execution_count": 10,
     "metadata": {},
     "output_type": "execute_result"
    }
   ],
   "source": [
    "df1=df.reset_index()['Open']\n",
    "df1.shape"
   ]
  },
  {
   "cell_type": "code",
   "execution_count": 11,
   "id": "0b2de08e",
   "metadata": {},
   "outputs": [
    {
     "data": {
      "text/plain": [
       "0       122.10\n",
       "1       120.30\n",
       "2       121.80\n",
       "3       120.10\n",
       "4       117.60\n",
       "         ...  \n",
       "2030    233.55\n",
       "2031    233.30\n",
       "2032    240.00\n",
       "2033    234.55\n",
       "2034    234.05\n",
       "Name: Open, Length: 2035, dtype: float64"
      ]
     },
     "execution_count": 11,
     "metadata": {},
     "output_type": "execute_result"
    }
   ],
   "source": [
    "df1"
   ]
  },
  {
   "cell_type": "code",
   "execution_count": 12,
   "id": "63f36713",
   "metadata": {},
   "outputs": [
    {
     "data": {
      "text/plain": [
       "[<matplotlib.lines.Line2D at 0x249cd4242b0>]"
      ]
     },
     "execution_count": 12,
     "metadata": {},
     "output_type": "execute_result"
    },
    {
     "data": {
      "image/png": "[encoded data removed]",
      "text/plain": [
       "<Figure size 432x288 with 1 Axes>"
      ]
     },
     "metadata": {
      "needs_background": "light"
     },
     "output_type": "display_data"
    }
   ],
   "source": [
    "plt.plot(df1)"
   ]
  },
  {
   "cell_type": "code",
   "execution_count": 13,
   "id": "184f9cce",
   "metadata": {},
   "outputs": [],
   "source": [
    "from sklearn.preprocessing import MinMaxScaler\n",
    "scaler=MinMaxScaler(feature_range=(0,1))\n",
    "df1=scaler.fit_transform(np.array(df1).reshape(-1,1))"
   ]
  },
  {
   "cell_type": "code",
   "execution_count": 14,
   "id": "e8101525",
   "metadata": {},
   "outputs": [
    {
     "data": {
      "text/plain": [
       "(2035, 1)"
      ]
     },
     "execution_count": 14,
     "metadata": {},
     "output_type": "execute_result"
    }
   ],
   "source": [
    "df1.shape"
   ]
  },
  {
   "cell_type": "code",
   "execution_count": 15,
   "id": "fdc53679",
   "metadata": {},
   "outputs": [
    {
     "data": {
      "text/plain": [
       "array([[0.16626115],\n",
       "       [0.15896188],\n",
       "       [0.16504461],\n",
       "       ...,\n",
       "       [0.64436334],\n",
       "       [0.62226277],\n",
       "       [0.6202352 ]])"
      ]
     },
     "execution_count": 15,
     "metadata": {},
     "output_type": "execute_result"
    }
   ],
   "source": [
    "df1"
   ]
  },
  {
   "cell_type": "code",
   "execution_count": 16,
   "id": "db02faae",
   "metadata": {},
   "outputs": [],
   "source": [
    "training_size=int(len(df1)*0.65)\n",
    "test_size=len(df1)-training_size\n",
    "train_data,test_data=df1[0:training_size,:],df1[training_size:len(df1),:1]"
   ]
  },
  {
   "cell_type": "code",
   "execution_count": 17,
   "id": "a77522f8",
   "metadata": {},
   "outputs": [
    {
     "data": {
      "text/plain": [
       "(713, 1)"
      ]
     },
     "execution_count": 17,
     "metadata": {},
     "output_type": "execute_result"
    }
   ],
   "source": [
    "test_data.shape"
   ]
  },
  {
   "cell_type": "code",
   "execution_count": 18,
   "id": "bfef7ebc",
   "metadata": {},
   "outputs": [],
   "source": [
    "def create_dataset(dataset, time_step=1):\n",
    "    dataX, dataY = [], []\n",
    "    for i in range(len(dataset)-time_step-1):\n",
    "        a = dataset[i:(i+time_step), 0]   ###i=0, 0,1,2,3-----99   100 \n",
    "        dataX.append(a)\n",
    "        dataY.append(dataset[i + time_step, 0])\n",
    "    return np.array(dataX), np.array(dataY)"
   ]
  },
  {
   "cell_type": "code",
   "execution_count": 19,
   "id": "7c5da248",
   "metadata": {},
   "outputs": [],
   "source": [
    "time_step = 100\n",
    "X_train, y_train = create_dataset(train_data, time_step)\n",
    "X_test, ytest = create_dataset(test_data, time_step)"
   ]
  },
  {
   "cell_type": "code",
   "execution_count": 20,
   "id": "3966c8a5",
   "metadata": {},
   "outputs": [
    {
     "name": "stdout",
     "output_type": "stream",
     "text": [
      "(1221, 100)\n",
      "(1221,)\n"
     ]
    },
    {
     "data": {
      "text/plain": [
       "(None, None)"
      ]
     },
     "execution_count": 20,
     "metadata": {},
     "output_type": "execute_result"
    }
   ],
   "source": [
    "print(X_train.shape), print(y_train.shape)"
   ]
  },
  {
   "cell_type": "code",
   "execution_count": 21,
   "id": "63ff351d",
   "metadata": {},
   "outputs": [
    {
     "name": "stdout",
     "output_type": "stream",
     "text": [
      "(612, 100)\n",
      "(612,)\n"
     ]
    },
    {
     "data": {
      "text/plain": [
       "(None, None)"
      ]
     },
     "execution_count": 21,
     "metadata": {},
     "output_type": "execute_result"
    }
   ],
   "source": [
    "print(X_test.shape), print(ytest.shape)"
   ]
  },
  {
   "cell_type": "code",
   "execution_count": 22,
   "id": "8b05338c",
   "metadata": {},
   "outputs": [],
   "source": [
    "X_train =X_train.reshape(X_train.shape[0],X_train.shape[1] , 1)\n",
    "X_test = X_test.reshape(X_test.shape[0],X_test.shape[1] , 1)"
   ]
  },
  {
   "cell_type": "code",
   "execution_count": 23,
   "id": "9db6e9c9",
   "metadata": {},
   "outputs": [
    {
     "name": "stdout",
     "output_type": "stream",
     "text": [
      "(1221, 100, 1)\n",
      "(1221,)\n",
      "(612, 100, 1)\n",
      "(612,)\n"
     ]
    },
    {
     "data": {
      "text/plain": [
       "(None, None)"
      ]
     },
     "execution_count": 23,
     "metadata": {},
     "output_type": "execute_result"
    }
   ],
   "source": [
    "print(X_train.shape), print(y_train.shape)\n",
    "print(X_test.shape), print(ytest.shape)"
   ]
  },
  {
   "cell_type": "code",
   "execution_count": 24,
   "id": "8211c5a9",
   "metadata": {},
   "outputs": [],
   "source": [
    "from keras.models import Sequential\n",
    "from keras.layers import Dense\n",
    "from keras.layers import LSTM\n",
    "from keras.layers import Dropout\n"
   ]
  },
  {
   "cell_type": "code",
   "execution_count": 25,
   "id": "56f3aefa",
   "metadata": {},
   "outputs": [],
   "source": [
    "regressor = Sequential([\n",
    "                        #First LSTM Layer with dropout regularization\n",
    "                        LSTM(units = 50, return_sequences = True, input_shape = (X_train.shape[1], 1)),\n",
    "                        Dropout(0.2),\n",
    "                        #Second LSTM Layer with dropout regularization\n",
    "                        LSTM(units = 50, return_sequences = True),\n",
    "                        Dropout(0.2),\n",
    "                        #Third LSTM Layer with dropout regularization\n",
    "                        LSTM(units = 50, return_sequences = True),\n",
    "                        Dropout(0.2),\n",
    "                        #Fourth LSTM Layer with dropout regularization\n",
    "                        LSTM(units = 50),\n",
    "                        Dropout(0.2),\n",
    "                        #Output Layer\n",
    "                        Dense(units = 1)\n",
    "])"
   ]
  },
  {
   "cell_type": "code",
   "execution_count": 26,
   "id": "8675f9b8",
   "metadata": {
    "scrolled": true
   },
   "outputs": [
    {
     "name": "stdout",
     "output_type": "stream",
     "text": [
      "Model: \"sequential\"\n",
      "_________________________________________________________________\n",
      "Layer (type)                 Output Shape              Param #   \n",
      "=================================================================\n",
      "lstm (LSTM)                  (None, 100, 50)           10400     \n",
      "_________________________________________________________________\n",
      "dropout (Dropout)            (None, 100, 50)           0         \n",
      "_________________________________________________________________\n",
      "lstm_1 (LSTM)                (None, 100, 50)           20200     \n",
      "_________________________________________________________________\n",
      "dropout_1 (Dropout)          (None, 100, 50)           0         \n",
      "_________________________________________________________________\n",
      "lstm_2 (LSTM)                (None, 100, 50)           20200     \n",
      "_________________________________________________________________\n",
      "dropout_2 (Dropout)          (None, 100, 50)           0         \n",
      "_________________________________________________________________\n",
      "lstm_3 (LSTM)                (None, 50)                20200     \n",
      "_________________________________________________________________\n",
      "dropout_3 (Dropout)          (None, 50)                0         \n",
      "_________________________________________________________________\n",
      "dense (Dense)                (None, 1)                 51        \n",
      "=================================================================\n",
      "Total params: 71,051\n",
      "Trainable params: 71,051\n",
      "Non-trainable params: 0\n",
      "_________________________________________________________________\n"
     ]
    }
   ],
   "source": [
    "regressor.summary()"
   ]
  },
  {
   "cell_type": "code",
   "execution_count": 27,
   "id": "1d9b4094",
   "metadata": {},
   "outputs": [
    {
     "name": "stdout",
     "output_type": "stream",
     "text": [
      "Epoch 1/100\n",
      "39/39 [==============================] - 4s 95ms/step - loss: 0.0070\n",
      "Epoch 2/100\n",
      "39/39 [==============================] - 4s 95ms/step - loss: 0.0017\n",
      "Epoch 3/100\n",
      "39/39 [==============================] - 4s 100ms/step - loss: 0.0015\n",
      "Epoch 4/100\n",
      "39/39 [==============================] - 4s 101ms/step - loss: 0.0017\n",
      "Epoch 5/100\n",
      "39/39 [==============================] - 4s 96ms/step - loss: 0.0014\n",
      "Epoch 6/100\n",
      "39/39 [==============================] - 4s 96ms/step - loss: 0.0013\n",
      "Epoch 7/100\n",
      "39/39 [==============================] - 4s 99ms/step - loss: 0.0012\n",
      "Epoch 8/100\n",
      "39/39 [==============================] - 4s 98ms/step - loss: 0.0012\n",
      "Epoch 9/100\n",
      "39/39 [==============================] - 4s 96ms/step - loss: 0.0012\n",
      "Epoch 10/100\n",
      "39/39 [==============================] - 4s 95ms/step - loss: 0.0012: 1s -\n",
      "Epoch 11/100\n",
      "39/39 [==============================] - 4s 102ms/step - loss: 0.0012\n",
      "Epoch 12/100\n",
      "39/39 [==============================] - 4s 101ms/step - loss: 9.9794e-04\n",
      "Epoch 13/100\n",
      "39/39 [==============================] - 4s 97ms/step - loss: 8.9719e-04\n",
      "Epoch 14/100\n",
      "39/39 [==============================] - 4s 97ms/step - loss: 9.5615e-04\n",
      "Epoch 15/100\n",
      "39/39 [==============================] - 4s 103ms/step - loss: 0.0010ETA: 1s - \n",
      "Epoch 16/100\n",
      "39/39 [==============================] - 4s 102ms/step - loss: 9.6826e-04\n",
      "Epoch 17/100\n",
      "39/39 [==============================] - 4s 100ms/step - loss: 9.1776e-04\n",
      "Epoch 18/100\n",
      "39/39 [==============================] - 4s 101ms/step - loss: 8.5886e-04 0s - loss: 8\n",
      "Epoch 19/100\n",
      "39/39 [==============================] - 4s 102ms/step - loss: 9.5932e-04\n",
      "Epoch 20/100\n",
      "39/39 [==============================] - 4s 102ms/step - loss: 9.0548e-04\n",
      "Epoch 21/100\n",
      "39/39 [==============================] - 4s 102ms/step - loss: 8.4539e-04\n",
      "Epoch 22/100\n",
      "39/39 [==============================] - 4s 100ms/step - loss: 8.2149e-04 2s - loss - ETA: 1\n",
      "Epoch 23/100\n",
      "39/39 [==============================] - 4s 102ms/step - loss: 7.4773e-04\n",
      "Epoch 24/100\n",
      "39/39 [==============================] - 4s 101ms/step - loss: 7.2220e-04\n",
      "Epoch 25/100\n",
      "39/39 [==============================] - 4s 103ms/step - loss: 7.3872e-04\n",
      "Epoch 26/100\n",
      "39/39 [==============================] - 4s 106ms/step - loss: 6.7168e-04\n",
      "Epoch 27/100\n",
      "39/39 [==============================] - 4s 104ms/step - loss: 6.9915e-04\n",
      "Epoch 28/100\n",
      "39/39 [==============================] - 4s 101ms/step - loss: 6.7651e-04\n",
      "Epoch 29/100\n",
      "39/39 [==============================] - 4s 106ms/step - loss: 6.2458e-04\n",
      "Epoch 30/100\n",
      "39/39 [==============================] - 4s 109ms/step - loss: 7.3485e-04\n",
      "Epoch 31/100\n",
      "39/39 [==============================] - 4s 105ms/step - loss: 6.6353e-04\n",
      "Epoch 32/100\n",
      "39/39 [==============================] - 4s 108ms/step - loss: 6.4309e-04\n",
      "Epoch 33/100\n",
      "39/39 [==============================] - 4s 107ms/step - loss: 6.4948e-04\n",
      "Epoch 34/100\n",
      "39/39 [==============================] - 4s 107ms/step - loss: 6.4261e-04\n",
      "Epoch 35/100\n",
      "39/39 [==============================] - 4s 107ms/step - loss: 5.7076e-04\n",
      "Epoch 36/100\n",
      "39/39 [==============================] - 4s 107ms/step - loss: 6.0034e-04\n",
      "Epoch 37/100\n",
      "39/39 [==============================] - 4s 107ms/step - loss: 5.6627e-04\n",
      "Epoch 38/100\n",
      "39/39 [==============================] - 4s 110ms/step - loss: 4.9693e-04\n",
      "Epoch 39/100\n",
      "39/39 [==============================] - 4s 108ms/step - loss: 5.2054e-04\n",
      "Epoch 40/100\n",
      "39/39 [==============================] - 4s 109ms/step - loss: 5.2048e-04\n",
      "Epoch 41/100\n",
      "39/39 [==============================] - 4s 109ms/step - loss: 4.9523e-04\n",
      "Epoch 42/100\n",
      "39/39 [==============================] - 4s 107ms/step - loss: 5.1454e-04\n",
      "Epoch 43/100\n",
      "39/39 [==============================] - 4s 109ms/step - loss: 4.9894e-04\n",
      "Epoch 44/100\n",
      "39/39 [==============================] - 4s 110ms/step - loss: 4.4373e-04\n",
      "Epoch 45/100\n",
      "39/39 [==============================] - 4s 109ms/step - loss: 4.5978e-04\n",
      "Epoch 46/100\n",
      "39/39 [==============================] - 4s 107ms/step - loss: 4.6560e-04\n",
      "Epoch 47/100\n",
      "39/39 [==============================] - 4s 112ms/step - loss: 4.3317e-04\n",
      "Epoch 48/100\n",
      "39/39 [==============================] - 4s 109ms/step - loss: 4.5215e-04\n",
      "Epoch 49/100\n",
      "39/39 [==============================] - 4s 110ms/step - loss: 4.4443e-04\n",
      "Epoch 50/100\n",
      "39/39 [==============================] - 4s 109ms/step - loss: 4.2358e-04\n",
      "Epoch 51/100\n",
      "39/39 [==============================] - 4s 107ms/step - loss: 4.3015e-04\n",
      "Epoch 52/100\n",
      "39/39 [==============================] - 4s 110ms/step - loss: 4.3324e-04\n",
      "Epoch 53/100\n",
      "39/39 [==============================] - 4s 110ms/step - loss: 4.4814e-04\n",
      "Epoch 54/100\n",
      "39/39 [==============================] - 4s 111ms/step - loss: 4.2867e-04\n",
      "Epoch 55/100\n",
      "39/39 [==============================] - 4s 108ms/step - loss: 4.0228e-04\n",
      "Epoch 56/100\n",
      "39/39 [==============================] - 4s 115ms/step - loss: 3.8234e-04\n",
      "Epoch 57/100\n",
      "39/39 [==============================] - 4s 112ms/step - loss: 3.8104e-04\n",
      "Epoch 58/100\n",
      "39/39 [==============================] - 4s 112ms/step - loss: 4.1478e-04\n",
      "Epoch 59/100\n",
      "39/39 [==============================] - 4s 112ms/step - loss: 3.9547e-04\n",
      "Epoch 60/100\n",
      "39/39 [==============================] - 4s 111ms/step - loss: 3.7737e-04\n",
      "Epoch 61/100\n",
      "39/39 [==============================] - 4s 109ms/step - loss: 3.7621e-04\n",
      "Epoch 62/100\n",
      "39/39 [==============================] - 4s 106ms/step - loss: 3.4517e-04\n",
      "Epoch 63/100\n",
      "39/39 [==============================] - 5s 118ms/step - loss: 3.7633e-04\n",
      "Epoch 64/100\n",
      "39/39 [==============================] - 4s 112ms/step - loss: 3.5844e-04\n",
      "Epoch 65/100\n",
      "39/39 [==============================] - 4s 110ms/step - loss: 3.6603e-04\n",
      "Epoch 66/100\n",
      "39/39 [==============================] - 4s 110ms/step - loss: 3.5429e-04\n",
      "Epoch 67/100\n",
      "39/39 [==============================] - 4s 113ms/step - loss: 3.7295e-04\n",
      "Epoch 68/100\n",
      "39/39 [==============================] - 4s 112ms/step - loss: 3.3653e-04\n",
      "Epoch 69/100\n",
      "39/39 [==============================] - 4s 111ms/step - loss: 3.5523e-04\n",
      "Epoch 70/100\n",
      "39/39 [==============================] - 4s 114ms/step - loss: 3.4828e-04\n",
      "Epoch 71/100\n",
      "39/39 [==============================] - 4s 109ms/step - loss: 3.4881e-04\n",
      "Epoch 72/100\n",
      "39/39 [==============================] - 4s 114ms/step - loss: 3.3997e-04\n",
      "Epoch 73/100\n",
      "39/39 [==============================] - 4s 111ms/step - loss: 3.7502e-04\n",
      "Epoch 74/100\n",
      "39/39 [==============================] - 4s 113ms/step - loss: 3.4607e-04\n",
      "Epoch 75/100\n",
      "39/39 [==============================] - 4s 111ms/step - loss: 3.0296e-04\n",
      "Epoch 76/100\n",
      "39/39 [==============================] - 4s 111ms/step - loss: 2.9505e-04\n",
      "Epoch 77/100\n",
      "39/39 [==============================] - 4s 114ms/step - loss: 3.0238e-04\n",
      "Epoch 78/100\n",
      "39/39 [==============================] - 4s 114ms/step - loss: 2.9259e-04\n",
      "Epoch 79/100\n",
      "39/39 [==============================] - 4s 115ms/step - loss: 3.4557e-04\n",
      "Epoch 80/100\n",
      "39/39 [==============================] - 4s 112ms/step - loss: 3.1357e-04\n",
      "Epoch 81/100\n",
      "39/39 [==============================] - 4s 114ms/step - loss: 3.0339e-04\n",
      "Epoch 82/100\n",
      "39/39 [==============================] - 4s 111ms/step - loss: 3.3561e-04\n",
      "Epoch 83/100\n",
      "39/39 [==============================] - 4s 113ms/step - loss: 2.9965e-04\n",
      "Epoch 84/100\n",
      "39/39 [==============================] - 4s 113ms/step - loss: 3.2480e-04\n",
      "Epoch 85/100\n",
      "39/39 [==============================] - 4s 114ms/step - loss: 2.9999e-04\n",
      "Epoch 86/100\n",
      "39/39 [==============================] - 4s 114ms/step - loss: 3.0518e-04\n",
      "Epoch 87/100\n",
      "39/39 [==============================] - 4s 114ms/step - loss: 3.0611e-04\n",
      "Epoch 88/100\n",
      "39/39 [==============================] - 4s 115ms/step - loss: 2.9082e-04 0s - loss: 2.9082e-0\n",
      "Epoch 89/100\n",
      "39/39 [==============================] - 4s 112ms/step - loss: 2.9497e-04\n",
      "Epoch 90/100\n",
      "39/39 [==============================] - 4s 115ms/step - loss: 3.0169e-04\n",
      "Epoch 91/100\n",
      "39/39 [==============================] - 5s 119ms/step - loss: 2.8709e-04\n",
      "Epoch 92/100\n",
      "39/39 [==============================] - 5s 124ms/step - loss: 3.3705e-04\n",
      "Epoch 93/100\n",
      "39/39 [==============================] - 5s 116ms/step - loss: 2.9896e-04\n",
      "Epoch 94/100\n",
      "39/39 [==============================] - 4s 114ms/step - loss: 2.8291e-04\n",
      "Epoch 95/100\n",
      "39/39 [==============================] - 5s 116ms/step - loss: 2.8626e-04\n",
      "Epoch 96/100\n",
      "39/39 [==============================] - 5s 116ms/step - loss: 2.8351e-04\n",
      "Epoch 97/100\n",
      "39/39 [==============================] - 5s 118ms/step - loss: 2.6195e-04\n",
      "Epoch 98/100\n",
      "39/39 [==============================] - 5s 125ms/step - loss: 2.8692e-04\n",
      "Epoch 99/100\n",
      "39/39 [==============================] - 5s 125ms/step - loss: 2.7675e-04\n",
      "Epoch 100/100\n",
      "39/39 [==============================] - 5s 117ms/step - loss: 3.2283e-04\n"
     ]
    },
    {
     "data": {
      "text/plain": [
       "<tensorflow.python.keras.callbacks.History at 0x249d7a32b50>"
      ]
     },
     "execution_count": 27,
     "metadata": {},
     "output_type": "execute_result"
    }
   ],
   "source": [
    "regressor.compile(optimizer = 'adam', loss = 'mean_squared_error')\n",
    "\n",
    "# Fitting the RNN to the Training set\n",
    "regressor.fit(X_train, y_train, epochs = 100, batch_size = 32)"
   ]
  },
  {
   "cell_type": "code",
   "execution_count": 28,
   "id": "52fb28ee",
   "metadata": {},
   "outputs": [],
   "source": [
    "test_predict=regressor.predict(X_test)"
   ]
  },
  {
   "cell_type": "code",
   "execution_count": 29,
   "id": "da94fbad",
   "metadata": {},
   "outputs": [],
   "source": [
    "test_predict=scaler.inverse_transform(test_predict)"
   ]
  },
  {
   "cell_type": "code",
   "execution_count": 30,
   "id": "e26c4166",
   "metadata": {},
   "outputs": [
    {
     "data": {
      "text/plain": [
       "196.56772043841164"
      ]
     },
     "execution_count": 30,
     "metadata": {},
     "output_type": "execute_result"
    }
   ],
   "source": [
    "import math\n",
    "from sklearn.metrics import mean_squared_error\n",
    "math.sqrt(mean_squared_error(ytest,test_predict))"
   ]
  },
  {
   "cell_type": "code",
   "execution_count": 31,
   "id": "34cc7851",
   "metadata": {},
   "outputs": [
    {
     "data": {
      "image/png": "[encoded data removed]",
      "text/plain": [
       "<Figure size 432x288 with 1 Axes>"
      ]
     },
     "metadata": {
      "needs_background": "light"
     },
     "output_type": "display_data"
    }
   ],
   "source": [
    "look_back=100\n",
    "# shift test predictions for plotting\n",
    "testPredictPlot = np.empty_like(df1)\n",
    "testPredictPlot[:, :] = np.nan\n",
    "testPredictPlot[len(y_train)+(look_back*2)+1:len(df1)-1, :] = test_predict\n",
    "# plot baseline and predictions\n",
    "plt.plot(scaler.inverse_transform(df1),label = 'Real TATA Stock Price')\n",
    "# plot test predictions\n",
    "plt.plot(testPredictPlot,label = 'Predicted TAT Stock Price')\n",
    "plt.xlabel('Time')\n",
    "plt.ylabel('TATA Stock Price')\n",
    "plt.legend()\n",
    "plt.show()"
   ]
  },
  {
   "cell_type": "code",
   "execution_count": 32,
   "id": "aab4bb45",
   "metadata": {},
   "outputs": [
    {
     "data": {
      "text/plain": [
       "713"
      ]
     },
     "execution_count": 32,
     "metadata": {},
     "output_type": "execute_result"
    }
   ],
   "source": [
    "len(test_data)"
   ]
  },
  {
   "cell_type": "code",
   "execution_count": 33,
   "id": "bec79961",
   "metadata": {},
   "outputs": [
    {
     "data": {
      "text/plain": [
       "(1, 100)"
      ]
     },
     "execution_count": 33,
     "metadata": {},
     "output_type": "execute_result"
    }
   ],
   "source": [
    "x_input=test_data[613:].reshape(1,-1)\n",
    "x_input.shape"
   ]
  },
  {
   "cell_type": "code",
   "execution_count": 34,
   "id": "685568ce",
   "metadata": {},
   "outputs": [],
   "source": [
    "temp_input=list(x_input)\n",
    "temp_input=temp_input[0].tolist()"
   ]
  },
  {
   "cell_type": "code",
   "execution_count": 35,
   "id": "52f18272",
   "metadata": {},
   "outputs": [
    {
     "data": {
      "text/plain": [
       "[0.8714517437145175,\n",
       " 0.8454987834549879,\n",
       " 0.8590835360908353,\n",
       " 0.82441200324412,\n",
       " 0.8065693430656933,\n",
       " 0.7110705596107054,\n",
       " 0.6443633414436334,\n",
       " 0.6585563665855636,\n",
       " 0.6780210867802108,\n",
       " 0.6609894566098945,\n",
       " 0.6605839416058394,\n",
       " 0.6707218167072181,\n",
       " 0.6889699918896999,\n",
       " 0.6938361719383617,\n",
       " 0.7039740470397404,\n",
       " 0.7149229521492293,\n",
       " 0.7011354420113545,\n",
       " 0.7538523925385239,\n",
       " 0.764801297648013,\n",
       " 0.745742092457421,\n",
       " 0.7072181670721815,\n",
       " 0.7366180048661801,\n",
       " 0.7534468775344687,\n",
       " 0.740470397404704,\n",
       " 0.748175182481752,\n",
       " 0.7366180048661801,\n",
       " 0.7538523925385239,\n",
       " 0.7652068126520681,\n",
       " 0.8031224655312246,\n",
       " 0.7723033252230334,\n",
       " 0.7848742903487427,\n",
       " 0.740470397404704,\n",
       " 0.7175587996755881,\n",
       " 0.7169505271695051,\n",
       " 0.7258718572587186,\n",
       " 0.7449310624493106,\n",
       " 0.7461476074614761,\n",
       " 0.7376317923763178,\n",
       " 0.7364152473641523,\n",
       " 0.7700729927007299,\n",
       " 0.7437145174371451,\n",
       " 0.810624493106245,\n",
       " 0.7962287104622869,\n",
       " 0.7652068126520681,\n",
       " 0.7589213300892133,\n",
       " 0.789943227899432,\n",
       " 0.7854825628548256,\n",
       " 0.7676399026763989,\n",
       " 0.745742092457421,\n",
       " 0.7169505271695051,\n",
       " 0.6506488240064883,\n",
       " 0.678426601784266,\n",
       " 0.6431467964314679,\n",
       " 0.6088807785888077,\n",
       " 0.6399026763990268,\n",
       " 0.6605839416058394,\n",
       " 0.6788321167883211,\n",
       " 0.6277372262773723,\n",
       " 0.6484184914841848,\n",
       " 0.6593673965936739,\n",
       " 0.6581508515815085,\n",
       " 0.6796431467964315,\n",
       " 0.6139497161394971,\n",
       " 0.6281427412814273,\n",
       " 0.6246958637469586,\n",
       " 0.6484184914841848,\n",
       " 0.6332116788321167,\n",
       " 0.6307785888077859,\n",
       " 0.6334144363341444,\n",
       " 0.6159772911597728,\n",
       " 0.6240875912408759,\n",
       " 0.628345498783455,\n",
       " 0.6476074614760746,\n",
       " 0.6605839416058394,\n",
       " 0.6723438767234386,\n",
       " 0.6455798864557989,\n",
       " 0.6220600162206001,\n",
       " 0.6111111111111112,\n",
       " 0.6321978913219789,\n",
       " 0.6194241686942417,\n",
       " 0.6255068937550688,\n",
       " 0.6321978913219789,\n",
       " 0.6281427412814273,\n",
       " 0.6370640713706407,\n",
       " 0.5713706407137064,\n",
       " 0.5794809407948094,\n",
       " 0.5673154906731549,\n",
       " 0.5733982157339821,\n",
       " 0.5733982157339821,\n",
       " 0.5484590429845904,\n",
       " 0.577250608272506,\n",
       " 0.6165855636658556,\n",
       " 0.6358475263584753,\n",
       " 0.6279399837793997,\n",
       " 0.6240875912408759,\n",
       " 0.6182076236820763,\n",
       " 0.6171938361719383,\n",
       " 0.6443633414436334,\n",
       " 0.6222627737226277,\n",
       " 0.620235198702352]"
      ]
     },
     "execution_count": 35,
     "metadata": {},
     "output_type": "execute_result"
    }
   ],
   "source": [
    "temp_input"
   ]
  },
  {
   "cell_type": "code",
   "execution_count": 36,
   "id": "ac8f255f",
   "metadata": {},
   "outputs": [],
   "source": [
    "from numpy import array\n",
    "\n",
    "lst_output=[]\n",
    "n_steps=100\n",
    "i=0\n",
    "while(i<30):\n",
    "    \n",
    "    if(len(temp_input)>100):\n",
    "        #print(temp_input)\n",
    "        x_input=np.array(temp_input[1:])\n",
    "        #print(\"{} day input {}\".format(i,x_input))\n",
    "        x_input=x_input.reshape(1,-1)\n",
    "        x_input = x_input.reshape((1, n_steps, 1))\n",
    "        #print(x_input)\n",
    "        yhat = regressor.predict(x_input, verbose=0)\n",
    "        #print(\"{} day output {}\".format(i,yhat))\n",
    "        temp_input.extend(yhat[0].tolist())\n",
    "        temp_input=temp_input[1:]\n",
    "        #print(temp_input)\n",
    "        lst_output.extend(yhat.tolist())\n",
    "        i=i+1\n",
    "    else:\n",
    "        x_input = x_input.reshape((1, n_steps,1))\n",
    "        yhat = regressor.predict(x_input, verbose=0)\n",
    "        #print(yhat[0])\n",
    "        temp_input.extend(yhat[0].tolist())\n",
    "        #print(len(temp_input))\n",
    "        lst_output.extend(yhat.tolist())\n",
    "        i=i+1\n",
    "    \n"
   ]
  },
  {
   "cell_type": "code",
   "execution_count": 37,
   "id": "cc8d7f33",
   "metadata": {},
   "outputs": [],
   "source": [
    "day_new=np.arange(1,101)\n",
    "day_pred=np.arange(101,131)"
   ]
  },
  {
   "cell_type": "code",
   "execution_count": 38,
   "id": "80036ed4",
   "metadata": {},
   "outputs": [
    {
     "data": {
      "text/plain": [
       "2035"
      ]
     },
     "execution_count": 38,
     "metadata": {},
     "output_type": "execute_result"
    }
   ],
   "source": [
    "len(df1)"
   ]
  },
  {
   "cell_type": "code",
   "execution_count": 39,
   "id": "d31d1d04",
   "metadata": {},
   "outputs": [
    {
     "data": {
      "text/plain": [
       "1935"
      ]
     },
     "execution_count": 39,
     "metadata": {},
     "output_type": "execute_result"
    }
   ],
   "source": [
    "2035-100"
   ]
  },
  {
   "cell_type": "code",
   "execution_count": 40,
   "id": "46c17c4e",
   "metadata": {},
   "outputs": [
    {
     "data": {
      "text/plain": [
       "[<matplotlib.lines.Line2D at 0x249e6cdcaf0>]"
      ]
     },
     "execution_count": 40,
     "metadata": {},
     "output_type": "execute_result"
    },
    {
     "data": {
      "image/png": "[encoded data removed]",
      "text/plain": [
       "<Figure size 432x288 with 1 Axes>"
      ]
     },
     "metadata": {
      "needs_background": "light"
     },
     "output_type": "display_data"
    }
   ],
   "source": [
    "plt.plot(day_new,scaler.inverse_transform(df1[1935:]))\n",
    "plt.plot(day_pred,scaler.inverse_transform(lst_output))"
   ]
  },
  {
   "cell_type": "code",
   "execution_count": null,
   "id": "8172435b",
   "metadata": {},
   "outputs": [],
   "source": []
  }
 ],
 "metadata": {
  "kernelspec": {
   "display_name": "Python 3 (ipykernel)",
   "language": "python",
   "name": "python3"
  },
  "language_info": {
   "codemirror_mode": {
    "name": "ipython",
    "version": 3
   },
   "file_extension": ".py",
   "mimetype": "text/x-python",
   "name": "python",
   "nbconvert_exporter": "python",
   "pygments_lexer": "ipython3",
   "version": "3.9.7"
  }
 },
 "nbformat": 4,
 "nbformat_minor": 5
}
