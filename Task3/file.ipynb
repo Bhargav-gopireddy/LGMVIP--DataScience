{
 "cells": [
  {
   "cell_type": "markdown",
   "id": "33a00c29",
   "metadata": {},
   "source": [
    "# Develop A Neural Network That Can Read Handwriting"
   ]
  },
  {
   "cell_type": "code",
   "execution_count": 1,
   "id": "3b74bfcc",
   "metadata": {},
   "outputs": [],
   "source": [
    "\n",
    "import numpy as np\n",
    "import pandas as pd\n",
    "import matplotlib.pyplot as plt\n",
    "import keras\n",
    "import random\n",
    "import math\n",
    "import tensorflow as tf\n",
    "from keras.datasets import mnist\n",
    "from keras.models import Sequential\n",
    "from keras.layers import Dense\n",
    "from keras.layers import Activation\n",
    "from keras.regularizers import l2\n",
    "\n",
    "\n",
    "from keras.layers import Dropout\n",
    "import warnings\n",
    "warnings.filterwarnings('ignore')\n"
   ]
  },
  {
   "cell_type": "code",
   "execution_count": 2,
   "id": "7d1ea85d",
   "metadata": {},
   "outputs": [],
   "source": [
    "(x_train, y_train), (x_test, y_test) = mnist.load_data()"
   ]
  },
  {
   "cell_type": "code",
   "execution_count": 3,
   "id": "fe5a1a79",
   "metadata": {},
   "outputs": [
    {
     "name": "stdout",
     "output_type": "stream",
     "text": [
      "number of images :  60000\n",
      "Dimensions of X:  28 x 28\n"
     ]
    }
   ],
   "source": [
    "print('number of images : ', x_train.shape[0]) \n",
    "print('Dimensions of X: ', x_train.shape[1], 'x', x_train.shape[2])"
   ]
  },
  {
   "cell_type": "code",
   "execution_count": 4,
   "id": "d35113cb",
   "metadata": {},
   "outputs": [
    {
     "data": {
      "image/png": "[encoded data removed]",
      "text/plain": [
       "<Figure size 432x288 with 1 Axes>"
      ]
     },
     "metadata": {
      "needs_background": "light"
     },
     "output_type": "display_data"
    },
    {
     "data": {
      "image/png": "[encoded data removed]",
      "text/plain": [
       "<Figure size 432x288 with 1 Axes>"
      ]
     },
     "metadata": {
      "needs_background": "light"
     },
     "output_type": "display_data"
    },
    {
     "data": {
      "image/png": "[encoded data removed]",
      "text/plain": [
       "<Figure size 432x288 with 1 Axes>"
      ]
     },
     "metadata": {
      "needs_background": "light"
     },
     "output_type": "display_data"
    },
    {
     "data": {
      "image/png": "[encoded data removed]",
      "text/plain": [
       "<Figure size 432x288 with 1 Axes>"
      ]
     },
     "metadata": {
      "needs_background": "light"
     },
     "output_type": "display_data"
    },
    {
     "data": {
      "image/png": "[encoded data removed]",
      "text/plain": [
       "<Figure size 432x288 with 1 Axes>"
      ]
     },
     "metadata": {
      "needs_background": "light"
     },
     "output_type": "display_data"
    }
   ],
   "source": [
    "for i in range(5): \n",
    "    plt.title('LABEL: {label}'.format(label=y_train[i]))\n",
    "    plt.imshow(x_train[i], cmap='gray')\n",
    "    plt.show()"
   ]
  },
  {
   "cell_type": "code",
   "execution_count": 5,
   "id": "82d37ca9",
   "metadata": {},
   "outputs": [],
   "source": [
    "model = Sequential([Dense(50, input_shape=(784,), kernel_regularizer=l2(.005)), \n",
    "                       Activation('relu'),\n",
    "                       Dense(30),\n",
    "                       Activation('relu'),\n",
    "                       Dense(30),\n",
    "                       Activation('relu'),\n",
    "                       Dense(10),\n",
    "                       Activation('softmax'),\n",
    "])\n",
    "\n",
    "model.compile(optimizer='adam', loss='categorical_crossentropy', metrics=['accuracy'])"
   ]
  },
  {
   "cell_type": "code",
   "execution_count": 6,
   "id": "d5c333b6",
   "metadata": {},
   "outputs": [],
   "source": [
    "y_train_hot = keras.utils.to_categorical(y_train, num_classes=10)\n",
    "\n",
    "#test if one-hot worked, should have a one in the 6th place to represent 5\n",
    "#y_train_hot[0]\n",
    "\n",
    "x_train_unroll = x_train.reshape(60000, 784)\n",
    "x_test_unroll = x_test.reshape(10000, 784)"
   ]
  },
  {
   "cell_type": "code",
   "execution_count": 7,
   "id": "527d20da",
   "metadata": {},
   "outputs": [
    {
     "name": "stdout",
     "output_type": "stream",
     "text": [
      "Epoch 1/10\n",
      "1875/1875 [==============================] - 2s 998us/step - loss: 1.3831 - accuracy: 0.7988\n",
      "Epoch 2/10\n",
      "1875/1875 [==============================] - 2s 1ms/step - loss: 0.4536 - accuracy: 0.9180\n",
      "Epoch 3/10\n",
      "1875/1875 [==============================] - 2s 1ms/step - loss: 0.3344 - accuracy: 0.9341\n",
      "Epoch 4/10\n",
      "1875/1875 [==============================] - 2s 817us/step - loss: 0.2923 - accuracy: 0.9390\n",
      "Epoch 5/10\n",
      "1875/1875 [==============================] - 1s 774us/step - loss: 0.2666 - accuracy: 0.9439\n",
      "Epoch 6/10\n",
      "1875/1875 [==============================] - 1s 763us/step - loss: 0.2563 - accuracy: 0.9465\n",
      "Epoch 7/10\n",
      "1875/1875 [==============================] - 1s 753us/step - loss: 0.2464 - accuracy: 0.9502\n",
      "Epoch 8/10\n",
      "1875/1875 [==============================] - 1s 744us/step - loss: 0.2370 - accuracy: 0.9520\n",
      "Epoch 9/10\n",
      "1875/1875 [==============================] - 1s 754us/step - loss: 0.2335 - accuracy: 0.95280s - loss: 0.2315 - accura\n",
      "Epoch 10/10\n",
      "1875/1875 [==============================] - 1s 754us/step - loss: 0.2332 - accuracy: 0.9528\n"
     ]
    },
    {
     "data": {
      "text/plain": [
       "<tensorflow.python.keras.callbacks.History at 0x21e8bff6be0>"
      ]
     },
     "execution_count": 7,
     "metadata": {},
     "output_type": "execute_result"
    }
   ],
   "source": [
    "model.fit(x_train_unroll, y_train_hot, epochs=10)"
   ]
  },
  {
   "cell_type": "code",
   "execution_count": 8,
   "id": "b63bfd72",
   "metadata": {},
   "outputs": [],
   "source": [
    "prediction_hot = model.predict(x_test_unroll)\n",
    "prediction = []\n",
    "\n",
    "#convert from one-hot to regular\n",
    "for line in prediction_hot:\n",
    "    prediction.append(np.argmax(line))"
   ]
  },
  {
   "cell_type": "code",
   "execution_count": 9,
   "id": "babfff8b",
   "metadata": {},
   "outputs": [
    {
     "name": "stdout",
     "output_type": "stream",
     "text": [
      "PREDICTION:  8\n"
     ]
    },
    {
     "data": {
      "image/png": "[encoded data removed]",
      "text/plain": [
       "<Figure size 432x288 with 1 Axes>"
      ]
     },
     "metadata": {
      "needs_background": "light"
     },
     "output_type": "display_data"
    },
    {
     "name": "stdout",
     "output_type": "stream",
     "text": [
      "PREDICTION:  6\n"
     ]
    },
    {
     "data": {
      "image/png": "[encoded data removed]",
      "text/plain": [
       "<Figure size 432x288 with 1 Axes>"
      ]
     },
     "metadata": {
      "needs_background": "light"
     },
     "output_type": "display_data"
    },
    {
     "name": "stdout",
     "output_type": "stream",
     "text": [
      "PREDICTION:  1\n"
     ]
    },
    {
     "data": {
      "image/png": "[encoded data removed]",
      "text/plain": [
       "<Figure size 432x288 with 1 Axes>"
      ]
     },
     "metadata": {
      "needs_background": "light"
     },
     "output_type": "display_data"
    },
    {
     "name": "stdout",
     "output_type": "stream",
     "text": [
      "PREDICTION:  9\n"
     ]
    },
    {
     "data": {
      "image/png": "[encoded data removed]",
      "text/plain": [
       "<Figure size 432x288 with 1 Axes>"
      ]
     },
     "metadata": {
      "needs_background": "light"
     },
     "output_type": "display_data"
    },
    {
     "name": "stdout",
     "output_type": "stream",
     "text": [
      "PREDICTION:  5\n"
     ]
    },
    {
     "data": {
      "image/png": "[encoded data removed]",
      "text/plain": [
       "<Figure size 432x288 with 1 Axes>"
      ]
     },
     "metadata": {
      "needs_background": "light"
     },
     "output_type": "display_data"
    }
   ],
   "source": [
    "num = math.ceil(random.uniform(1,9995))\n",
    "for i in range(num, num+5):\n",
    "    print('PREDICTION: ', prediction[i])\n",
    "    plt.title('LABEL: {label}'.format(label=y_test[i]))\n",
    "    plt.imshow(x_test[i], cmap='gray')\n",
    "    plt.show()"
   ]
  },
  {
   "cell_type": "code",
   "execution_count": 10,
   "id": "d7c43710",
   "metadata": {},
   "outputs": [
    {
     "name": "stdout",
     "output_type": "stream",
     "text": [
      "8958\n",
      "Test Prediction Accuracy:  89.58 %\n"
     ]
    }
   ],
   "source": [
    "correct = 0\n",
    "incorrect = 0\n",
    "\n",
    "for i in prediction:\n",
    "    if prediction[i] == y_test[i]:\n",
    "        correct += 1\n",
    "    else:\n",
    "        incorrect += 1\n",
    "\n",
    "accuracy = correct / y_test.shape[0]\n",
    "\n",
    "print(correct)\n",
    "print('Test Prediction Accuracy: ', accuracy * 100, '%')"
   ]
  },
  {
   "cell_type": "code",
   "execution_count": 11,
   "id": "10107f20",
   "metadata": {},
   "outputs": [
    {
     "name": "stdout",
     "output_type": "stream",
     "text": [
      "PREDICTION:  6\n"
     ]
    },
    {
     "data": {
      "image/png": "[encoded data removed]",
      "text/plain": [
       "<Figure size 432x288 with 1 Axes>"
      ]
     },
     "metadata": {
      "needs_background": "light"
     },
     "output_type": "display_data"
    },
    {
     "name": "stdout",
     "output_type": "stream",
     "text": [
      "PREDICTION:  6\n"
     ]
    },
    {
     "data": {
      "image/png": "[encoded data removed]",
      "text/plain": [
       "<Figure size 432x288 with 1 Axes>"
      ]
     },
     "metadata": {
      "needs_background": "light"
     },
     "output_type": "display_data"
    },
    {
     "name": "stdout",
     "output_type": "stream",
     "text": [
      "PREDICTION:  6\n"
     ]
    },
    {
     "data": {
      "image/png": "[encoded data removed]",
      "text/plain": [
       "<Figure size 432x288 with 1 Axes>"
      ]
     },
     "metadata": {
      "needs_background": "light"
     },
     "output_type": "display_data"
    },
    {
     "name": "stdout",
     "output_type": "stream",
     "text": [
      "PREDICTION:  6\n"
     ]
    },
    {
     "data": {
      "image/png": "[encoded data removed]",
      "text/plain": [
       "<Figure size 432x288 with 1 Axes>"
      ]
     },
     "metadata": {
      "needs_background": "light"
     },
     "output_type": "display_data"
    },
    {
     "name": "stdout",
     "output_type": "stream",
     "text": [
      "PREDICTION:  6\n"
     ]
    },
    {
     "data": {
      "image/png": "[encoded data removed]",
      "text/plain": [
       "<Figure size 432x288 with 1 Axes>"
      ]
     },
     "metadata": {
      "needs_background": "light"
     },
     "output_type": "display_data"
    }
   ],
   "source": [
    "label_miss = 8\n",
    "prediction_miss = 6\n",
    "for i in range(10000):\n",
    "    if prediction[i] == prediction_miss and y_test[i] == label_miss:\n",
    "        print('PREDICTION: ', prediction[i])\n",
    "        plt.title('LABEL: {label}'.format(label=y_test[i]))\n",
    "        plt.imshow(x_test[i], cmap='gray')\n",
    "        plt.show()"
   ]
  },
  {
   "cell_type": "code",
   "execution_count": null,
   "id": "55beaf39",
   "metadata": {},
   "outputs": [],
   "source": []
  }
 ],
 "metadata": {
  "kernelspec": {
   "display_name": "Python 3 (ipykernel)",
   "language": "python",
   "name": "python3"
  },
  "language_info": {
   "codemirror_mode": {
    "name": "ipython",
    "version": 3
   },
   "file_extension": ".py",
   "mimetype": "text/x-python",
   "name": "python",
   "nbconvert_exporter": "python",
   "pygments_lexer": "ipython3",
   "version": "3.9.7"
  }
 },
 "nbformat": 4,
 "nbformat_minor": 5
}
